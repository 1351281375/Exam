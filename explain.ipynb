{
 "cells": [
  {
   "cell_type": "markdown",
   "id": "01027045",
   "metadata": {},
   "source": [
    "# My Jupyter Notebook on IBM Watson Studio"
   ]
  },
  {
   "cell_type": "markdown",
   "id": "6f98e6be",
   "metadata": {},
   "source": [
    "__Fatemeh Rahim Zadeh__\n",
    "I'm GIS expert."
   ]
  },
  {
   "cell_type": "markdown",
   "id": "726e5065",
   "metadata": {},
   "source": [
    "*I am interested in data science because I'm a curious person*"
   ]
  },
  {
   "cell_type": "markdown",
   "id": "04128d64",
   "metadata": {},
   "source": [
    "### In cell5 we add two numbers:"
   ]
  },
  {
   "cell_type": "code",
   "execution_count": 2,
   "id": "25577a24",
   "metadata": {},
   "outputs": [
    {
     "data": {
      "text/plain": [
       "16"
      ]
     },
     "execution_count": 2,
     "metadata": {},
     "output_type": "execute_result"
    }
   ],
   "source": [
    "5+11"
   ]
  },
  {
   "cell_type": "markdown",
   "id": "452ac437",
   "metadata": {},
   "source": [
    "~~STOP~~\n",
    "1. You are so beautifull\n",
    "2. you can do enything you want it.\n",
    "***Thank you for your time\n"
   ]
  },
  {
   "cell_type": "code",
   "execution_count": null,
   "id": "5b6320b5",
   "metadata": {},
   "outputs": [],
   "source": []
  }
 ],
 "metadata": {
  "kernelspec": {
   "display_name": "Python 3",
   "language": "python",
   "name": "python3"
  },
  "language_info": {
   "codemirror_mode": {
    "name": "ipython",
    "version": 3
   },
   "file_extension": ".py",
   "mimetype": "text/x-python",
   "name": "python",
   "nbconvert_exporter": "python",
   "pygments_lexer": "ipython3",
   "version": "3.8.8"
  }
 },
 "nbformat": 4,
 "nbformat_minor": 5
}
